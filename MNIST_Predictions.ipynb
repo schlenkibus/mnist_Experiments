{
 "cells": [
  {
   "cell_type": "code",
   "execution_count": 1,
   "metadata": {
    "scrolled": false
   },
   "outputs": [],
   "source": "from __future__ import absolute_import, division, print_function, unicode_literals\n\n\nimport tensorflow as tf"
  },
  {
   "cell_type": "code",
   "execution_count": 2,
   "metadata": {},
   "outputs": [],
   "source": "mnist = tf.keras.datasets.mnist\n\n(x_train, y_train), (x_test, y_test) = mnist.load_data()\nx_train, x_test = x_train / 255.0, x_test / 255.0"
  },
  {
   "cell_type": "code",
   "execution_count": 3,
   "metadata": {},
   "outputs": [],
   "source": "model = tf.keras.models.Sequential([\n  tf.keras.layers.Flatten(input_shape=(28, 28)),\n  tf.keras.layers.Dense(128, activation='relu'),\n  tf.keras.layers.Dropout(0.2),\n  tf.keras.layers.Dense(10)\n])"
  },
  {
   "cell_type": "code",
   "execution_count": 4,
   "metadata": {},
   "outputs": [
    {
     "name": "stdout",
     "output_type": "stream",
     "text": "WARNING:tensorflow:Layer flatten is casting an input tensor from dtype float64 to the layer's dtype of float32, which is new behavior in TensorFlow 2.  The layer has dtype float32 because it's dtype defaults to floatx.\n\nIf you intended to run this layer in float32, you can safely ignore this warning. If in doubt, this warning is likely only an issue if you are porting a TensorFlow 1.X model to TensorFlow 2.\n\nTo change all layers to have dtype float64 by default, call `tf.keras.backend.set_floatx('float64')`. To change just this layer, pass dtype='float64' to the layer constructor. If you are the author of this layer, you can disable autocasting by passing autocast=False to the base Layer constructor.\n\n"
    }
   ],
   "source": "predictions = model(x_train[:1]).numpy()"
  },
  {
   "cell_type": "code",
   "execution_count": 5,
   "metadata": {},
   "outputs": [
    {
     "data": {
      "text/plain": "array([[0.12604596, 0.18274342, 0.09165001, 0.08584231, 0.07713233,\n        0.05726498, 0.05751849, 0.12824458, 0.10558274, 0.08797523]],\n      dtype=float32)"
     },
     "execution_count": 5,
     "metadata": {},
     "output_type": "execute_result"
    }
   ],
   "source": "tf.nn.softmax(predictions).numpy()"
  },
  {
   "cell_type": "code",
   "execution_count": 6,
   "metadata": {},
   "outputs": [],
   "source": "loss_fn = tf.keras.losses.SparseCategoricalCrossentropy(from_logits=True)"
  },
  {
   "cell_type": "code",
   "execution_count": 7,
   "metadata": {},
   "outputs": [
    {
     "data": {
      "text/plain": "2.860066"
     },
     "execution_count": 7,
     "metadata": {},
     "output_type": "execute_result"
    }
   ],
   "source": "loss_fn(y_train[:1], predictions).numpy()"
  },
  {
   "cell_type": "code",
   "execution_count": 14,
   "metadata": {},
   "outputs": [
    {
     "name": "stdout",
     "output_type": "stream",
     "text": "Train on 60000 samples\nEpoch 1/10\n60000/60000 [==============================] - 2s 36us/sample - loss: 0.0842 - accuracy: 0.9754\nEpoch 2/10\n60000/60000 [==============================] - 2s 33us/sample - loss: 0.0796 - accuracy: 0.9767\nEpoch 3/10\n60000/60000 [==============================] - 2s 33us/sample - loss: 0.0787 - accuracy: 0.9779\nEpoch 4/10\n60000/60000 [==============================] - 2s 33us/sample - loss: 0.0789 - accuracy: 0.9773\nEpoch 5/10\n60000/60000 [==============================] - 2s 33us/sample - loss: 0.0787 - accuracy: 0.9769\nEpoch 6/10\n60000/60000 [==============================] - 2s 33us/sample - loss: 0.0773 - accuracy: 0.9772\nEpoch 7/10\n60000/60000 [==============================] - 2s 33us/sample - loss: 0.0779 - accuracy: 0.9776\nEpoch 8/10\n60000/60000 [==============================] - 2s 33us/sample - loss: 0.0771 - accuracy: 0.9776\nEpoch 9/10\n60000/60000 [==============================] - 2s 33us/sample - loss: 0.0773 - accuracy: 0.9779\nEpoch 10/10\n60000/60000 [==============================] - 2s 34us/sample - loss: 0.0764 - accuracy: 0.9780\n"
    },
    {
     "data": {
      "text/plain": "<tensorflow.python.keras.callbacks.History at 0x7f771438b2d0>"
     },
     "execution_count": 14,
     "metadata": {},
     "output_type": "execute_result"
    }
   ],
   "source": "model.compile(optimizer='adagrad',\n              loss=loss_fn,\n              metrics=['accuracy'])\n\nmodel.fit(x_train, y_train, epochs=10)"
  },
  {
   "cell_type": "code",
   "execution_count": 15,
   "metadata": {},
   "outputs": [
    {
     "name": "stdout",
     "output_type": "stream",
     "text": "10000/10000 - 0s - loss: 0.0774 - accuracy: 0.9759\n"
    },
    {
     "data": {
      "text/plain": "[0.077365882361494, 0.9759]"
     },
     "execution_count": 15,
     "metadata": {},
     "output_type": "execute_result"
    }
   ],
   "source": "model.evaluate(x_test,  y_test, verbose=2)"
  },
  {
   "cell_type": "code",
   "execution_count": 16,
   "metadata": {},
   "outputs": [],
   "source": "probability_model = tf.keras.Sequential([\n  model,\n  tf.keras.layers.Softmax()\n])"
  },
  {
   "cell_type": "code",
   "execution_count": 17,
   "metadata": {},
   "outputs": [
    {
     "data": {
      "text/plain": "<tf.Tensor: shape=(5, 10), dtype=float32, numpy=\narray([[1.7775214e-06, 2.1200778e-07, 5.8084566e-05, 4.9587409e-04,\n        1.7050207e-09, 1.0310017e-06, 1.3847021e-10, 9.9942327e-01,\n        1.6101353e-06, 1.8292361e-05],\n       [7.2365192e-06, 4.8177415e-05, 9.9987054e-01, 5.5735829e-05,\n        1.6934277e-11, 2.2823460e-06, 8.5385427e-06, 1.9773572e-11,\n        7.4363288e-06, 1.1999643e-10],\n       [3.8173384e-06, 9.9391574e-01, 1.2627323e-03, 1.2169211e-04,\n        1.5102653e-04, 1.9276398e-04, 2.4419528e-04, 3.2455870e-03,\n        8.3998829e-04, 2.2473281e-05],\n       [9.9973565e-01, 1.3350994e-08, 4.3296910e-05, 1.3020258e-06,\n        2.5441653e-07, 3.2307194e-05, 2.2206505e-05, 1.5296122e-04,\n        3.3448674e-07, 1.1525638e-05],\n       [1.9110669e-04, 7.6036855e-07, 2.6382634e-04, 8.0831078e-06,\n        9.7731459e-01, 1.2192727e-05, 1.0677170e-04, 8.2742062e-04,\n        3.9634971e-05, 2.1235537e-02]], dtype=float32)>"
     },
     "execution_count": 17,
     "metadata": {},
     "output_type": "execute_result"
    }
   ],
   "source": "probability_model(x_test[:5])"
  },
  {
   "cell_type": "code",
   "execution_count": null,
   "metadata": {},
   "outputs": [],
   "source": ""
  }
 ],
 "metadata": {
  "kernelspec": {
   "display_name": "Python 2",
   "language": "python",
   "name": "python2"
  },
  "language_info": {
   "codemirror_mode": {
    "name": "ipython",
    "version": 2
   },
   "file_extension": ".py",
   "mimetype": "text/x-python",
   "name": "python",
   "nbconvert_exporter": "python",
   "pygments_lexer": "ipython2",
   "version": "2.7.17"
  }
 },
 "nbformat": 4,
 "nbformat_minor": 4
}
